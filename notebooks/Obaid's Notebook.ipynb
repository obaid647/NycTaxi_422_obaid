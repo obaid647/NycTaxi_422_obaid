{
 "cells": [
  {
   "cell_type": "code",
   "execution_count": 0,
   "metadata": {
    "application/vnd.databricks.v1+cell": {
     "cellMetadata": {
      "byteLimit": 2048000,
      "implicitDf": true,
      "rowLimit": 10000
     },
     "inputWidgets": {},
     "nuid": "c6fa5cec-d616-4c3f-9b06-355cfb63281b",
     "showTitle": false,
     "tableResultSettingsMap": {},
     "title": ""
    }
   },
   "outputs": [],
   "source": [
    "%sql\n",
    "USE CATALOG nyc_taxi;\n",
    "USE SCHEMA nyc_taxi_schema;"
   ]
  },
  {
   "cell_type": "code",
   "execution_count": 0,
   "metadata": {
    "application/vnd.databricks.v1+cell": {
     "cellMetadata": {
      "byteLimit": 2048000,
      "rowLimit": 10000
     },
     "inputWidgets": {},
     "nuid": "797f2d0d-f389-49da-a5e5-fb9c0e295069",
     "showTitle": false,
     "tableResultSettingsMap": {},
     "title": ""
    }
   },
   "outputs": [],
   "source": [
    "spark.sql(\"USE CATALOG nyc_taxi\")\n",
    "spark.sql(\"USE SCHEMA nyc_taxi_schema\")\n",
    "\n",
    "\n",
    "df = spark.table(\"nyc_taxi.nyc_taxi_schema.yellow_trips_csv_v\")"
   ]
  },
  {
   "cell_type": "code",
   "execution_count": 0,
   "metadata": {
    "application/vnd.databricks.v1+cell": {
     "cellMetadata": {
      "byteLimit": 2048000,
      "rowLimit": 10000
     },
     "inputWidgets": {},
     "nuid": "b3e3c941-cf8e-4d49-960f-072ff7b2be52",
     "showTitle": false,
     "tableResultSettingsMap": {},
     "title": ""
    }
   },
   "outputs": [],
   "source": [
    "df.printSchema()\n",
    "display(df)"
   ]
  },
  {
   "cell_type": "code",
   "execution_count": 0,
   "metadata": {
    "application/vnd.databricks.v1+cell": {
     "cellMetadata": {
      "byteLimit": 2048000,
      "rowLimit": 10000
     },
     "inputWidgets": {},
     "nuid": "0340c5f7-9a44-4098-a4bf-13a6f27db5d1",
     "showTitle": false,
     "tableResultSettingsMap": {},
     "title": ""
    }
   },
   "outputs": [],
   "source": [
    "num_cols = [\"trip_distance\",\"passenger_count\",\"fare_amount\",\"tip_amount\",\"tolls_amount\",\"mta_tax\",\"extra\",\"improvement_surcharge\",\"total_amount\"]\n",
    "display(df.select(*num_cols).summary())\n"
   ]
  },
  {
   "cell_type": "code",
   "execution_count": 0,
   "metadata": {
    "application/vnd.databricks.v1+cell": {
     "cellMetadata": {
      "byteLimit": 2048000,
      "rowLimit": 10000
     },
     "inputWidgets": {},
     "nuid": "5f289f07-46ce-4d75-aef6-2c1f8617c834",
     "showTitle": false,
     "tableResultSettingsMap": {},
     "title": ""
    }
   },
   "outputs": [],
   "source": [
    "\n",
    "clean = df.na.drop(subset=['fare_amount', 'trip_distance', 'passenger_count'])\n",
    "\n",
    "clean = clean.filter((clean.fare_amount >=0)&(clean.trip_distance >=0)&(clean.passenger_count >0)& (clean.tpep_pickup_datetime < clean.tpep_dropoff_datetime)& (clean.pickup_longitude !=0) & (clean.pickup_latitude !=0) & (clean.dropoff_longitude !=0) & (clean.dropoff_latitude !=0))\n",
    "print(clean.count())\n",
    "     "
   ]
  },
  {
   "cell_type": "code",
   "execution_count": 0,
   "metadata": {
    "application/vnd.databricks.v1+cell": {
     "cellMetadata": {
      "byteLimit": 2048000,
      "rowLimit": 10000
     },
     "inputWidgets": {},
     "nuid": "0003c0e6-266d-4a41-804c-b381532e029d",
     "showTitle": false,
     "tableResultSettingsMap": {},
     "title": ""
    }
   },
   "outputs": [],
   "source": [
    "from pyspark.sql import functions as F\n",
    "clean = clean.withColumn(\"trip_duration (m)\", F.round((F.col(\"tpep_dropoff_datetime\").cast(\"long\") -F.col(\"tpep_pickup_datetime\").cast(\"long\"))/60,2))\n",
    "clean = clean.withColumn(\"trip_speed(mph)\", F.round((F.col(\"trip_distance\")/(F.col(\"trip_duration (m)\")/60)),2))\n",
    "display(clean)"
   ]
  },
  {
   "cell_type": "code",
   "execution_count": 0,
   "metadata": {
    "application/vnd.databricks.v1+cell": {
     "cellMetadata": {
      "byteLimit": 2048000,
      "rowLimit": 10000
     },
     "inputWidgets": {},
     "nuid": "b2139c0c-3bfd-485f-a174-d36cfeba71ee",
     "showTitle": false,
     "tableResultSettingsMap": {},
     "title": ""
    }
   },
   "outputs": [],
   "source": [
    "import pandas as pd\n",
    "import numpy as np\n",
    "import pyspark.pandas as ps\n",
    "from pyspark.sql import SparkSession\n",
    "\n",
    "psdf = clean.pandas_api()\n",
    "psdf = psdf.groupby('passenger_count')[['fare_amount','trip_distance']].mean().reset_index()\n",
    "display(psdf)"
   ]
  },
  {
   "cell_type": "code",
   "execution_count": 0,
   "metadata": {
    "application/vnd.databricks.v1+cell": {
     "cellMetadata": {
      "byteLimit": 2048000,
      "rowLimit": 10000
     },
     "inputWidgets": {},
     "nuid": "d297604c-0155-4224-ae4b-f4a493728375",
     "showTitle": false,
     "tableResultSettingsMap": {},
     "title": ""
    }
   },
   "outputs": [],
   "source": [
    "by_hour = clean.withColumn(\"pickup_hour\", F.hour(F.col(\"tpep_pickup_datetime\"))).groupBy(\"pickup_hour\").count().orderBy(F.desc(\"count\"))\n",
    "display(by_hour)"
   ]
  },
  {
   "cell_type": "code",
   "execution_count": 0,
   "metadata": {
    "application/vnd.databricks.v1+cell": {
     "cellMetadata": {
      "byteLimit": 2048000,
      "rowLimit": 10000
     },
     "inputWidgets": {},
     "nuid": "7e35ed2f-460e-4fb2-b097-b7a00bc72e8a",
     "showTitle": false,
     "tableResultSettingsMap": {},
     "title": ""
    }
   },
   "outputs": [],
   "source": [
    "#round coords to 0.01 grids to make neighborhood\n",
    "cells = clean.withColumn(\"pickup_lat_r\",  F.round(\"pickup_latitude\", 2)) \\\n",
    "             .withColumn(\"pickup_lon_r\",  F.round(\"pickup_longitude\", 2))\n",
    "\n",
    "avg_fare_by_cell = cells.groupBy(\"pickup_lat_r\",\"pickup_lon_r\") \\\n",
    "                        .agg(F.avg(\"fare_amount\").alias(\"avg_fare\"), F.count(\"*\").alias(\"n\")) \\\n",
    "                        .filter(\"n >= 200\") \\\n",
    "                        .orderBy(F.desc(\"avg_fare\"))\n",
    "display(avg_fare_by_cell)\n"
   ]
  },
  {
   "cell_type": "code",
   "execution_count": 0,
   "metadata": {
    "application/vnd.databricks.v1+cell": {
     "cellMetadata": {
      "byteLimit": 2048000,
      "rowLimit": 10000
     },
     "inputWidgets": {},
     "nuid": "a660ea95-b14e-4b76-b94b-287114f008cb",
     "showTitle": false,
     "tableResultSettingsMap": {},
     "title": ""
    }
   },
   "outputs": [],
   "source": [
    "#from pyspark.sql import functions as F\n",
    "#import matplotlib.pyplot as plt\n",
    "\n",
    "#bin for each mile distance,\n",
    "bin_size = 1\n",
    "max_cap = 50\n",
    "\n",
    "clean_binned = (clean\n",
    "    .withColumn(\"distance_bin\",\n",
    "        F.when(F.col(\"trip_distance\") >= max_cap, max_cap)\n",
    "         .otherwise((F.col(\"trip_distance\")/bin_size).cast(\"int\") * bin_size)\n",
    "    )\n",
    ")\n",
    "\n",
    "bin_counts = (clean_binned\n",
    "    .groupBy(\"distance_bin\")\n",
    "    .count()\n",
    "    .orderBy(\"distance_bin\")\n",
    ")\n",
    "\n",
    "bin_pdf = bin_counts.toPandas()\n",
    "print(bin_pdf.head())\n",
    "\n",
    "\n",
    "plt.figure(figsize=(10,6))\n",
    "plt.bar(bin_pdf[\"distance_bin\"], bin_pdf[\"count\"], width=1, align=\"edge\", edgecolor=\"black\")\n",
    "plt.title(\"Distribution of Trip Distances (0–50+ miles)\")\n",
    "plt.xlabel(\"Trip distance (miles)\")\n",
    "plt.ylabel(\"Number of trips\")\n",
    "plt.xticks(range(0, max_cap+5, 5))\n",
    "plt.show()"
   ]
  },
  {
   "cell_type": "code",
   "execution_count": 0,
   "metadata": {
    "application/vnd.databricks.v1+cell": {
     "cellMetadata": {
      "byteLimit": 2048000,
      "rowLimit": 10000
     },
     "inputWidgets": {},
     "nuid": "3428bbba-48f3-4fac-b9f8-7d985d1d39cc",
     "showTitle": false,
     "tableResultSettingsMap": {},
     "title": ""
    }
   },
   "outputs": [],
   "source": [
    "fare_by_hour_sdf = (\n",
    "    clean\n",
    "    .withColumn(\"pickup_hour\", F.hour(F.col(\"tpep_pickup_datetime\")))\n",
    "    .groupBy(\"pickup_hour\")\n",
    "    .agg(F.avg(\"fare_amount\").alias(\"avg_fare\"))\n",
    "    .orderBy(\"pickup_hour\")\n",
    ")\n",
    "\n",
    "fare_by_hour = fare_by_hour_sdf.toPandas()\n",
    "\n",
    "plt.figure(figsize=(9,5))\n",
    "plt.bar(fare_by_hour[\"pickup_hour\"], fare_by_hour[\"avg_fare\"])\n",
    "plt.title(\"Average Fare by Hour of Day\")\n",
    "plt.xlabel(\"Hour of day (0–23)\")\n",
    "plt.ylabel(\"Average fare (USD)\")\n",
    "plt.xticks(range(0,24))\n",
    "plt.tight_layout()\n"
   ]
  },
  {
   "cell_type": "markdown",
   "metadata": {
    "application/vnd.databricks.v1+cell": {
     "cellMetadata": {},
     "inputWidgets": {},
     "nuid": "090838bd-2265-46f5-b007-4bf124e2a6f6",
     "showTitle": false,
     "tableResultSettingsMap": {},
     "title": ""
    }
   },
   "source": [
    "### Step 7\n",
    "\n",
    "a) Peak Taxi Usage Times\n",
    "\n",
    "- Highest demand during morning (7–9 AM) and evening (5–8 PM) rush hours.\n",
    "- Secondary peak after midnight (12–3 AM) linked to nightlife.\n",
    "- Midday hours (10 AM–3 PM) show steady but lower activity.\n",
    "\n",
    "b) Trip Duration, Speed, and Fare\n",
    "\n",
    "- Most trips are short (1–5 miles) with fares typically under $20.\n",
    "- Speeds are lowest during rush hours, making trips longer despite short distance.\n",
    "- Long trips during congestion are disproportionately costly in both time and fare.\n",
    "\n",
    "c) Geography-Related Patterns\n",
    "\n",
    "- Manhattan has the highest concentration of pickups and short but expensive trips.\n",
    "- Airport trips (JFK, LaGuardia) appear as long, higher-fare outliers.\n",
    "- Outer borough trips are generally longer in distance but cheaper per mile."
   ]
  },
  {
   "cell_type": "code",
   "execution_count": 0,
   "metadata": {
    "application/vnd.databricks.v1+cell": {
     "cellMetadata": {
      "byteLimit": 2048000,
      "rowLimit": 10000
     },
     "inputWidgets": {},
     "nuid": "e57c2ec6-29c8-4356-bd78-c76f6cf1da15",
     "showTitle": false,
     "tableResultSettingsMap": {},
     "title": ""
    }
   },
   "outputs": [],
   "source": [
    "#b1\n",
    "trip_duration_mins = clean.withColumn(\"trip_duration_mins\", F.round((F.col(\"tpep_dropoff_datetime\").cast(\"long\") -F.col(\"tpep_pickup_datetime\").cast(\"long\"))/60,2))\n",
    "display(trip_duration_mins.select(\"trip_duration_mins\").head(20))"
   ]
  },
  {
   "cell_type": "code",
   "execution_count": 0,
   "metadata": {
    "application/vnd.databricks.v1+cell": {
     "cellMetadata": {
      "byteLimit": 2048000,
      "rowLimit": 10000
     },
     "inputWidgets": {},
     "nuid": "0cbead52-1532-4d46-9b40-059d50aceb77",
     "showTitle": false,
     "tableResultSettingsMap": {},
     "title": ""
    }
   },
   "outputs": [],
   "source": [
    "#b2\n",
    "clean = clean.withColumn(\"pickup_hour\", F.hour(F.col(\"tpep_pickup_datetime\")))\n",
    "clean = clean.withColumn(\"pickup_day\", F.dayofweek(F.col(\"tpep_pickup_datetime\"))) #mon = 1, sun = 7\n",
    "display(clean.select(\"pickup_hour\", \"pickup_day\").head(20))"
   ]
  },
  {
   "cell_type": "code",
   "execution_count": 0,
   "metadata": {
    "application/vnd.databricks.v1+cell": {
     "cellMetadata": {
      "byteLimit": 2048000,
      "rowLimit": 10000
     },
     "inputWidgets": {},
     "nuid": "a781c702-f201-4bea-953a-6d844f7f54ae",
     "showTitle": false,
     "tableResultSettingsMap": {},
     "title": ""
    }
   },
   "outputs": [],
   "source": [
    "#b4\n",
    "avg_trip_duration_by_hour = clean.groupBy(\"pickup_hour\").agg(F.avg(\"trip_duration (m)\").alias(\"avg_trip_duration\"))\n",
    "display(avg_trip_duration_by_hour)\n",
    "\n",
    "avg_trip_duration_by_hour_pd = avg_trip_duration_by_hour.toPandas()\n",
    "\n",
    "plt.figure(figsize=(10,6))\n",
    "plt.bar(avg_trip_duration_by_hour_pd[\"pickup_hour\"], avg_trip_duration_by_hour_pd[\"avg_trip_duration\"])\n",
    "plt.title(\"Average Trip Duration by Hour of Day\")\n",
    "plt.xlabel(\"Hour of Day\")\n",
    "plt.ylabel(\"Average Trip Duration (minutes)\")\n",
    "plt.xticks(range(24))\n",
    "plt.tight_layout()\n",
    "plt.show()\n"
   ]
  },
  {
   "cell_type": "code",
   "execution_count": 0,
   "metadata": {
    "application/vnd.databricks.v1+cell": {
     "cellMetadata": {
      "byteLimit": 2048000,
      "rowLimit": 10000
     },
     "inputWidgets": {},
     "nuid": "e98b84fe-c6d7-44fa-ae87-40cf8572b757",
     "showTitle": false,
     "tableResultSettingsMap": {},
     "title": ""
    }
   },
   "outputs": [],
   "source": [
    "#b5 counting hotspots\n",
    "#round coordinates for clustering\n",
    "clean = clean.withColumn(\"pickup_lat_r\", F.round(\"pickup_latitude\", 2))\n",
    "clean = clean.withColumn(\"pickup_lon_r\", F.round(\"pickup_longitude\", 2))\n",
    "clean = clean.withColumn(\"dropoff_lat_r\", F.round(\"dropoff_latitude\", 2))\n",
    "clean = clean.withColumn(\"dropoff_lon_r\", F.round(\"dropoff_longitude\", 2))\n",
    "\n",
    "#pickup coordinates count\n",
    "pickup_hotspots = clean.groupBy(\"pickup_lat_r\", \"pickup_lon_r\").count().orderBy(F.desc(\"count\"))\n",
    "display(pickup_hotspots)\n",
    "\n",
    "#dropoff coordinates count\n",
    "dropoff_hotspots = clean.groupBy(\"dropoff_lat_r\", \"dropoff_lon_r\").count().orderBy(F.desc(\"count\"))\n",
    "display(dropoff_hotspots)\n"
   ]
  },
  {
   "cell_type": "code",
   "execution_count": 0,
   "metadata": {
    "application/vnd.databricks.v1+cell": {
     "cellMetadata": {
      "byteLimit": 2048000,
      "rowLimit": 10000
     },
     "inputWidgets": {},
     "nuid": "45a05d6f-fe7d-45b0-b4c0-7d0823c92340",
     "showTitle": false,
     "tableResultSettingsMap": {},
     "title": ""
    }
   },
   "outputs": [],
   "source": [
    "#b5 visualization\n",
    "pickup_pd = pickup_hotspots.toPandas()\n",
    "plt.figure(figsize=(10, 6))\n",
    "sns.scatterplot(data=pickup_pd, x=\"pickup_lon_r\", y=\"pickup_lat_r\", size=\"count\", hue=\"count\",\n",
    "                alpha=0.6, legend=False, sizes=(20, 200))\n",
    "plt.title(\"Pickup Hotspots\")\n",
    "plt.xlabel(\"Longitude\")\n",
    "plt.ylabel(\"Latitude\")\n",
    "plt.show()\n",
    "\n",
    "dropoff_pd = dropoff_hotspots.toPandas()\n",
    "plt.figure(figsize=(10, 6))\n",
    "sns.scatterplot(data=dropoff_pd, x=\"dropoff_lon_r\", y=\"dropoff_lat_r\", size=\"count\", hue=\"count\",\n",
    "                alpha=0.6, legend=False, sizes=(20, 200))\n",
    "plt.title(\"Dropoff Hotspots\")\n",
    "plt.xlabel(\"Longitude\")\n",
    "plt.ylabel(\"Latitude\")\n",
    "plt.show()"
   ]
  },
  {
   "cell_type": "code",
   "execution_count": 0,
   "metadata": {
    "application/vnd.databricks.v1+cell": {
     "cellMetadata": {
      "byteLimit": 2048000,
      "rowLimit": 10000
     },
     "inputWidgets": {},
     "nuid": "8c818d0c-4222-45b8-ac1b-c80faeb7637d",
     "showTitle": false,
     "tableResultSettingsMap": {},
     "title": ""
    }
   },
   "outputs": [],
   "source": [
    "#b6\n",
    "avg_fare_by_pickup_location = clean.groupBy(\"pickup_lat_r\", \"pickup_lon_r\") \\\n",
    "                                   .agg(F.avg(\"fare_amount\").alias(\"avg_fare\"), F.count(\"*\").alias(\"n\")) \\\n",
    "                                   .filter(\"n >= 200\") \\\n",
    "                                   .orderBy(F.desc(\"avg_fare\"))\n",
    "display(avg_fare_by_pickup_location)\n"
   ]
  },
  {
   "cell_type": "code",
   "execution_count": 0,
   "metadata": {
    "application/vnd.databricks.v1+cell": {
     "cellMetadata": {
      "byteLimit": 2048000,
      "rowLimit": 10000
     },
     "inputWidgets": {},
     "nuid": "2fdba673-cb21-484e-ba5c-452c719c9b4b",
     "showTitle": false,
     "tableResultSettingsMap": {},
     "title": ""
    }
   },
   "outputs": [],
   "source": [
    "#b7\n",
    "numeric_columns = [\"fare_amount\", \"trip_distance\", \"trip_duration (m)\", \"passenger_count\"]\n",
    "corr_matrix = clean.select(numeric_columns).toPandas().corr()\n",
    "\n",
    "plt.figure(figsize=(10,6))\n",
    "sns.heatmap(corr_matrix, annot=True, cmap='coolwarm', fmt='.2f')\n",
    "plt.title(\"Correlation Matrix of Key Features\")\n",
    "plt.tight_layout()\n",
    "plt.show()"
   ]
  }
 ],
 "metadata": {
  "application/vnd.databricks.v1+notebook": {
   "computePreferences": null,
   "dashboards": [],
   "environmentMetadata": {
    "base_environment": "",
    "environment_version": "3"
   },
   "inputWidgetPreferences": null,
   "language": "python",
   "notebookMetadata": {
    "mostRecentlyExecutedCommandWithImplicitDF": {
     "commandId": 8800665759614254,
     "dataframes": [
      "_sqldf"
     ]
    },
    "pythonIndentUnit": 4
   },
   "notebookName": "Obaid's Notebook",
   "widgets": {}
  },
  "language_info": {
   "name": "python"
  }
 },
 "nbformat": 4,
 "nbformat_minor": 0
}
